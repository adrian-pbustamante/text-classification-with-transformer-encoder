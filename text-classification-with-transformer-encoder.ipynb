{
 "cells": [
  {
   "cell_type": "markdown",
   "id": "bd156159-878a-4b5e-a1d4-63fed176f9c9",
   "metadata": {},
   "source": [
    "# Text classification with Transformer Encoder\n",
    "\n",
    "Adrian P. Bustamante\n",
    "\n",
    "adrianpebus@gmail.com"
   ]
  },
  {
   "cell_type": "markdown",
   "id": "496a7b81-5c88-4822-ab34-708f76e31c88",
   "metadata": {},
   "source": [
    "### __Table of Contents__\n",
    "\n",
    "<ol>\n",
    "    <li><a href=\"#Objective\">Objective</a></li>\n",
    "    <li><a href=\"#Data-Processing\">Data Processing</a></li>\n",
    "    <li><a href=\"#Classifying-text-using-bag-of-embeddings\">Classifying text using bag of embeddings</a></li>\n",
    "    <li><a href=\"#Classifying-text-using-Transformer-Encoder\">Classifying text using Transformer Encoder</a></li>\n",
    "    <li><a href=\"#Conclusion\">Conclusion</a></li>\n",
    "</ol>"
   ]
  },
  {
   "cell_type": "markdown",
   "id": "6cdb7f67-324a-4426-8291-067117abeca3",
   "metadata": {},
   "source": [
    "## Objective"
   ]
  },
  {
   "cell_type": "markdown",
   "id": "72064b93-7650-4964-90f9-6a549d70d4c9",
   "metadata": {},
   "source": [
    "The aim of this notebook is to do text classification for the AG_news dataset (a similar procedure can be use to perform sentiment analysis). We build and train two different models: first we use only a bag of embedding to perform the classification, the second model we use is a Transforeme encoder architecture. \n",
    "\n",
    "We train the model in a reduced dataset, due to the fact that the models are trained on cpu. "
   ]
  },
  {
   "cell_type": "markdown",
   "id": "6d35ce20-e6e7-41d9-9d13-69e98f8d4e4a",
   "metadata": {},
   "source": [
    "## Data Processing"
   ]
  },
  {
   "cell_type": "markdown",
   "id": "5eedc2b3-d096-4bd2-9bc4-42529f2bfc19",
   "metadata": {},
   "source": [
    "#### Importing libraries, defining utility methods"
   ]
  },
  {
   "cell_type": "code",
   "execution_count": 2,
   "id": "e4f58437-798d-42d9-b4e9-74be2ca5f88e",
   "metadata": {},
   "outputs": [],
   "source": [
    "from tqdm import tqdm\n",
    "import numpy as np\n",
    "import matplotlib.pyplot as plt\n",
    "import math\n",
    "plt.style.use('dark_background')\n",
    "\n",
    "import torch\n",
    "import torch.nn as nn\n",
    "\n",
    "from torch.utils.data import DataLoader\n",
    "from torchtext.datasets import AG_NEWS\n",
    "from torchtext.data.utils import get_tokenizer\n",
    "from torchtext.vocab import build_vocab_from_iterator\n",
    "from torch.utils.data.dataset import random_split\n",
    "from torchtext.data.functional import to_map_style_dataset\n",
    "import pickle\n",
    "\n",
    "from torch.nn.utils.rnn import pad_sequence\n",
    "\n",
    "#print(torch.__version__)\n",
    "#print(torchtext.__version__)"
   ]
  },
  {
   "cell_type": "code",
   "execution_count": 3,
   "id": "d3a15467-5e4a-41fe-b8ad-0417768605cc",
   "metadata": {},
   "outputs": [],
   "source": [
    "def save_list_to_file(lst, filename):\n",
    "    \"\"\"\n",
    "    Save a list to a file using pickle serialization.\n",
    "\n",
    "    Parameters:\n",
    "        lst (list): The list to be saved.\n",
    "        filename (str): The name of the file to save the list to.\n",
    "\n",
    "    Returns:\n",
    "        None\n",
    "    \"\"\"\n",
    "    with open(filename, 'wb') as file:\n",
    "        pickle.dump(lst, file)\n",
    "\n",
    "def load_list_from_file(filename):\n",
    "    \"\"\"\n",
    "    Load a list from a file using pickle deserialization.\n",
    "\n",
    "    Parameters:\n",
    "        filename (str): The name of the file to load the list from.\n",
    "\n",
    "    Returns:\n",
    "        list: The loaded list.\n",
    "    \"\"\"\n",
    "    with open(filename, 'rb') as file:\n",
    "        loaded_list = pickle.load(file)\n",
    "    return loaded_list\n",
    "\n",
    "def plot(COST,ACC, title = 'no title'):\n",
    "    \n",
    "    fig, ax1 = plt.subplots()\n",
    "    plt.suptitle(title)\n",
    "    color = 'tab:red'\n",
    "    ax1.plot(COST, color=color)\n",
    "    ax1.set_xlabel('epoch', color=color)\n",
    "    ax1.set_ylabel('total loss', color=color)\n",
    "    ax1.tick_params(axis='y', color=color)\n",
    "\n",
    "    ax2 = ax1.twinx()\n",
    "    color = 'tab:blue'\n",
    "    ax2.set_ylabel('accuracy', color=color)  # you already handled the x-label with ax1\n",
    "    ax2.plot(ACC, color=color)\n",
    "    ax2.tick_params(axis='y', color=color)\n",
    "    fig.tight_layout()  # otherwise the right y-label is slightly clipped\n",
    "\n",
    "    plt.show()"
   ]
  },
  {
   "cell_type": "markdown",
   "id": "02826e38-bc9b-42fc-964d-74cfe4751810",
   "metadata": {},
   "source": [
    "##### using gpu, if available"
   ]
  },
  {
   "cell_type": "code",
   "execution_count": 4,
   "id": "089cd965-9de4-42f0-9f2b-61488ec253b0",
   "metadata": {},
   "outputs": [
    {
     "data": {
      "text/plain": [
       "device(type='cpu')"
      ]
     },
     "execution_count": 4,
     "metadata": {},
     "output_type": "execute_result"
    }
   ],
   "source": [
    "device = torch.device(\"cuda\" if torch.cuda.is_available() else \"cpu\")\n",
    "device"
   ]
  },
  {
   "cell_type": "markdown",
   "id": "3855054f-313e-4b4a-9964-c4387919a526",
   "metadata": {},
   "source": [
    "#### Importing dataset"
   ]
  },
  {
   "cell_type": "code",
   "execution_count": 5,
   "id": "c0263499-d10e-4729-8810-a3eb6e1d3563",
   "metadata": {
    "scrolled": true
   },
   "outputs": [
    {
     "name": "stderr",
     "output_type": "stream",
     "text": [
      "/home/adrian/Documents/ibm-certifications/venv/lib/python3.12/site-packages/tqdm/auto.py:21: TqdmWarning: IProgress not found. Please update jupyter and ipywidgets. See https://ipywidgets.readthedocs.io/en/stable/user_install.html\n",
      "  from .autonotebook import tqdm as notebook_tqdm\n"
     ]
    },
    {
     "name": "stdout",
     "output_type": "stream",
     "text": [
      "(3, \"Wall St. Bears Claw Back Into the Black (Reuters) Reuters - Short-sellers, Wall Street's dwindling\\\\band of ultra-cynics, are seeing green again.\")\n",
      "(3, 'Carlyle Looks Toward Commercial Aerospace (Reuters) Reuters - Private investment firm Carlyle Group,\\\\which has a reputation for making well-timed and occasionally\\\\controversial plays in the defense industry, has quietly placed\\\\its bets on another part of the market.')\n",
      "(3, \"Oil and Economy Cloud Stocks' Outlook (Reuters) Reuters - Soaring crude prices plus worries\\\\about the economy and the outlook for earnings are expected to\\\\hang over the stock market next week during the depth of the\\\\summer doldrums.\")\n",
      "(3, 'Iraq Halts Oil Exports from Main Southern Pipeline (Reuters) Reuters - Authorities have halted oil export\\\\flows from the main pipeline in southern Iraq after\\\\intelligence showed a rebel militia could strike\\\\infrastructure, an oil official said on Saturday.')\n",
      "(3, 'Oil prices soar to all-time record, posing new menace to US economy (AFP) AFP - Tearaway world oil prices, toppling records and straining wallets, present a new economic menace barely three months before the US presidential elections.')\n",
      "(3, 'Stocks End Up, But Near Year Lows (Reuters) Reuters - Stocks ended slightly higher on Friday\\\\but stayed near lows for the year as oil prices surged past  #36;46\\\\a barrel, offsetting a positive outlook from computer maker\\\\Dell Inc. (DELL.O)')\n",
      "(3, \"Money Funds Fell in Latest Week (AP) AP - Assets of the nation's retail money market mutual funds fell by  #36;1.17 billion in the latest week to  #36;849.98 trillion, the Investment Company Institute said Thursday.\")\n",
      "(3, 'Fed minutes show dissent over inflation (USATODAY.com) USATODAY.com - Retail sales bounced back a bit in July, and new claims for jobless benefits fell last week, the government said Thursday, indicating the economy is improving from a midsummer slump.')\n",
      "(3, 'Safety Net (Forbes.com) Forbes.com - After earning a PH.D. in Sociology, Danny Bazil Riley started to work as the general manager at a commercial real estate firm at an annual base salary of  #36;70,000. Soon after, a financial planner stopped by his desk to drop off brochures about insurance benefits available through his employer. But, at 32, \"buying insurance was the furthest thing from my mind,\" says Riley.')\n",
      "(3, \"Wall St. Bears Claw Back Into the Black  NEW YORK (Reuters) - Short-sellers, Wall Street's dwindling  band of ultra-cynics, are seeing green again.\")\n",
      "(3, \"Oil and Economy Cloud Stocks' Outlook  NEW YORK (Reuters) - Soaring crude prices plus worries  about the economy and the outlook for earnings are expected to  hang over the stock market next week during the depth of the  summer doldrums.\")\n"
     ]
    }
   ],
   "source": [
    "# Import train and test sets\n",
    "train_iter, test_iter = AG_NEWS()\n",
    "\n",
    "for i, news in enumerate(train_iter):\n",
    "    print(news)\n",
    "    if i==10:\n",
    "        break"
   ]
  },
  {
   "cell_type": "markdown",
   "id": "afaa4111-a266-4020-bfb9-da607ae64d82",
   "metadata": {},
   "source": [
    "#### labels and number of classes"
   ]
  },
  {
   "cell_type": "code",
   "execution_count": 6,
   "id": "e485fffe-1579-4853-a7e7-66c30b4983c1",
   "metadata": {},
   "outputs": [
    {
     "name": "stderr",
     "output_type": "stream",
     "text": [
      "/home/adrian/Documents/ibm-certifications/venv/lib/python3.12/site-packages/torch/utils/data/datapipes/iter/combining.py:337: UserWarning: Some child DataPipes are not exhausted when __iter__ is called. We are resetting the buffer and each child DataPipe will read from the start again.\n",
      "  warnings.warn(\"Some child DataPipes are not exhausted when __iter__ is called. We are resetting \"\n"
     ]
    },
    {
     "name": "stdout",
     "output_type": "stream",
     "text": [
      "number of classes = 4\n"
     ]
    }
   ],
   "source": [
    "num_class = len(set([label for (label, text) in train_iter ]))\n",
    "print('number of classes =', num_class)"
   ]
  },
  {
   "cell_type": "code",
   "execution_count": 7,
   "id": "417e0aeb-c416-4ddb-a591-f17ba98c14b8",
   "metadata": {},
   "outputs": [
    {
     "name": "stdout",
     "output_type": "stream",
     "text": [
      "3 Wall St. Bears Claw Back Into the Black (Reuters) Reuters - Short-sellers, Wall Street's dwindling\\band of ultra-cynics, are seeing green again.\n",
      "type of text:  Business\n"
     ]
    }
   ],
   "source": [
    "##labels\n",
    "ag_news_label = {1: \"World\", 2: \"Sports\", 3: \"Business\", 4: \"Sci/Tec\"}\n",
    "y,text= next(iter(train_iter ))\n",
    "print(y,text)\n",
    "print('type of text: ',ag_news_label[y])"
   ]
  },
  {
   "cell_type": "markdown",
   "id": "5dca821a-c150-4f11-b1f9-9dd652e5c210",
   "metadata": {},
   "source": [
    "#### Defining tokenizer and vocabulary"
   ]
  },
  {
   "cell_type": "code",
   "execution_count": 8,
   "id": "14ffc607-edde-4d25-9c2c-8871c0cef116",
   "metadata": {},
   "outputs": [],
   "source": [
    "tokenizer = get_tokenizer(\"basic_english\")\n",
    "\n",
    "def yield_tokens(data_iter):\n",
    "    for  _,text in data_iter:\n",
    "        yield tokenizer(text)\n",
    "\n",
    "vocab = build_vocab_from_iterator(yield_tokens(train_iter), specials=[\"<unk>\"])\n",
    "vocab.set_default_index(vocab[\"<unk>\"])"
   ]
  },
  {
   "cell_type": "code",
   "execution_count": 9,
   "id": "705f8b99-3b3b-4a82-9198-7df42cde91d6",
   "metadata": {},
   "outputs": [
    {
     "name": "stdout",
     "output_type": "stream",
     "text": [
      "Vocabulary size = 95811\n"
     ]
    }
   ],
   "source": [
    "print('Vocabulary size =', len(vocab) )"
   ]
  },
  {
   "cell_type": "code",
   "execution_count": 10,
   "id": "aed132b3-b50e-42f8-960e-cf0090d44759",
   "metadata": {},
   "outputs": [],
   "source": [
    "# Define functions to process text and labels\n",
    "def text_pipeline(x):\n",
    "    x=x.lower()# vocab is in lower case\n",
    "    return vocab(tokenizer(x))\n",
    "#labels start in zero\n",
    "def label_pipeline(x):\n",
    "    return int(x) - 1\n",
    "\n",
    "#index to english function\n",
    "index_to_en = lambda seq_en: \" \".join([vocab.get_itos()[index] for index in seq_en])"
   ]
  },
  {
   "cell_type": "markdown",
   "id": "a0242b44-fc84-418d-98fd-b144a6834982",
   "metadata": {},
   "source": [
    "#### Defining train and validation sets"
   ]
  },
  {
   "cell_type": "code",
   "execution_count": 11,
   "id": "cf6b6d34-34a1-43de-9fb1-49d78f8b4629",
   "metadata": {},
   "outputs": [
    {
     "name": "stdout",
     "output_type": "stream",
     "text": [
      "length of train set =  114000\n",
      "length of validation set =  6000\n",
      "length of test set =  7600\n"
     ]
    }
   ],
   "source": [
    "#Convert the train and test iterators to map-style datasets.\n",
    "train_dataset = to_map_style_dataset(train_iter)\n",
    "test_dataset = to_map_style_dataset(test_iter)\n",
    "\n",
    "# Determine the number of samples to be used for training and validation (5% for validation).\n",
    "num_train = int(len(train_dataset) * 0.95)\n",
    "\n",
    "# Randomly split the training dataset into training and validation datasets using `random_split`.\n",
    "# The training dataset will contain 95% of the samples, and the validation dataset will contain the remaining 5%.\n",
    "split_train_, split_valid_ = random_split(train_dataset, [num_train, len(train_dataset) - num_train])\n",
    "print('length of train set = ',len(split_train_))\n",
    "print('length of validation set = ',len(split_valid_))\n",
    "print('length of test set = ', len(test_dataset))"
   ]
  },
  {
   "cell_type": "markdown",
   "id": "0bae02a0-daf4-4034-af09-1ea53d372d70",
   "metadata": {},
   "source": [
    "###### Comment the following block if you are using gpu"
   ]
  },
  {
   "cell_type": "code",
   "execution_count": 12,
   "id": "f49bfc41-aa22-403e-824d-43fa327424d3",
   "metadata": {},
   "outputs": [
    {
     "name": "stdout",
     "output_type": "stream",
     "text": [
      "No gpu available, computations are made on cpu. Reducing the size of data for training.\n",
      "length of train set =  24000\n",
      "length of validation set =  1200\n",
      "length of test set =  7600\n"
     ]
    }
   ],
   "source": [
    "# we reduce the size of the train set since we work with cpu\n",
    "if str(device) == 'cpu':\n",
    "    print('No gpu available, computations are made on cpu. Reducing the size of data for training.')\n",
    "    num_train = int(len(train_dataset) * 0.2)\n",
    "    split_train_, _ = random_split(split_train_, [num_train, len(split_train_) - num_train])\n",
    "    num_valid_ = int(len(split_valid_)*0.2)\n",
    "    split_valid_, _ = random_split( split_valid_, [num_valid_, len(split_valid_) - num_valid_])\n",
    "    print('length of train set = ',len(split_train_))\n",
    "    print('length of validation set = ',len(split_valid_))\n",
    "    print('length of test set = ', len(test_dataset))\n",
    "    "
   ]
  },
  {
   "cell_type": "markdown",
   "id": "4ed63076-6dcb-4cba-8f8f-b8902504f3b2",
   "metadata": {},
   "source": [
    "## Classifying text using bag of embeddings"
   ]
  },
  {
   "cell_type": "markdown",
   "id": "334b1017-4255-48c0-be90-7840e9ae0767",
   "metadata": {},
   "source": [
    "#### Dataset and DataLoaders"
   ]
  },
  {
   "cell_type": "code",
   "execution_count": 13,
   "id": "3b53461b-f732-4e17-8a5e-6bf0d7d1ed9f",
   "metadata": {},
   "outputs": [],
   "source": [
    "## defining collate function to process batches\n",
    "def collate_batch(batch):\n",
    "    label_list, text_list, offsets = [], [], [0]\n",
    "    for _label, _text in batch:\n",
    "        label_list.append(label_pipeline(_label))\n",
    "        processed_text = torch.tensor(text_pipeline(_text), dtype=torch.int64)\n",
    "        text_list.append(processed_text)\n",
    "        offsets.append(processed_text.size(0))\n",
    "    label_list = torch.tensor(label_list, dtype=torch.int64)\n",
    "    offsets = torch.tensor(offsets[:-1]).cumsum(dim=0)\n",
    "    text_list = torch.cat(text_list)\n",
    "    return label_list.to(device), text_list.to(device), offsets.to(device)"
   ]
  },
  {
   "cell_type": "code",
   "execution_count": 14,
   "id": "980a3690-ad1d-4775-98b9-45a06db25f3c",
   "metadata": {},
   "outputs": [],
   "source": [
    "##defining DataLoaders\n",
    "BATCH_SIZE = 64\n",
    "\n",
    "train_dataloader = DataLoader(\n",
    "    split_train_, batch_size=BATCH_SIZE, shuffle=True, collate_fn=collate_batch\n",
    ")\n",
    "valid_dataloader = DataLoader(\n",
    "    split_valid_, batch_size=BATCH_SIZE, shuffle=True, collate_fn=collate_batch\n",
    ")\n",
    "test_dataloader = DataLoader(\n",
    "    test_dataset, batch_size=BATCH_SIZE, shuffle=True, collate_fn=collate_batch\n",
    ")"
   ]
  },
  {
   "cell_type": "code",
   "execution_count": 15,
   "id": "ca03fb8d-eaa3-4629-9675-55ef8dd8e36e",
   "metadata": {},
   "outputs": [
    {
     "data": {
      "text/plain": [
       "(tensor([3, 1, 2, 1, 0, 2, 3, 2, 2, 1, 1, 0, 2, 2, 2, 1, 0, 0, 0, 2, 3, 1, 1, 1,\n",
       "         0, 2, 3, 2, 2, 0, 1, 0, 0, 3, 1, 3, 3, 2, 3, 1, 1, 3, 0, 0, 0, 2, 2, 3,\n",
       "         1, 0, 2, 1, 0, 1, 1, 0, 2, 0, 1, 3, 3, 2, 3, 2]),\n",
       " tensor([14087,  2051,   478,  ...,     3,  2390,     1]),\n",
       " tensor([   0,   76,  110,  133,  164,  197,  226,  271,  332,  372,  408,  445,\n",
       "          475,  514,  564,  601,  648,  697,  743,  789,  829,  861,  913,  950,\n",
       "          972, 1000, 1039, 1080, 1142, 1190, 1227, 1264, 1291, 1330, 1369, 1406,\n",
       "         1450, 1489, 1557, 1597, 1634, 1677, 1719, 1816, 1872, 1907, 1950, 1993,\n",
       "         2067, 2112, 2146, 2182, 2225, 2267, 2307, 2357, 2394, 2442, 2469, 2504,\n",
       "         2531, 2565, 2622, 2673]))"
      ]
     },
     "execution_count": 15,
     "metadata": {},
     "output_type": "execute_result"
    }
   ],
   "source": [
    "label, text, offsets=next(iter(valid_dataloader ))\n",
    "label, text, offsets###offsets mark the beginning of each sentence\n",
    "##all the news in each batch are stack on a single one dim tensor"
   ]
  },
  {
   "cell_type": "markdown",
   "id": "8a152d16-8139-488d-8ca4-f57e673f67bc",
   "metadata": {},
   "source": [
    "#### Defining Network"
   ]
  },
  {
   "cell_type": "code",
   "execution_count": 16,
   "id": "e6385441-251a-4f54-b1ec-66a3b6fb8727",
   "metadata": {},
   "outputs": [],
   "source": [
    "class TextClassEmbedding(nn.Module):\n",
    "    def __init__(self, vocab_size, embed_dim, num_class):\n",
    "        super(TextClassEmbedding, self).__init__()\n",
    "        self.embedding = nn.EmbeddingBag(vocab_size, embed_dim, sparse=False)\n",
    "        self.fc = nn.Linear(embed_dim, num_class)\n",
    "        self.init_weights()\n",
    "\n",
    "    def init_weights(self):\n",
    "        initrange = 0.5\n",
    "        self.embedding.weight.data.uniform_(-initrange, initrange)\n",
    "        self.fc.weight.data.uniform_(-initrange, initrange)\n",
    "        self.fc.bias.data.zero_()\n",
    "\n",
    "    def forward(self, text, offsets):\n",
    "        embedded = self.embedding(text, offsets)\n",
    "        return self.fc(embedded)"
   ]
  },
  {
   "cell_type": "code",
   "execution_count": 17,
   "id": "e34c1cc9-2687-4ebd-82ba-27849c451945",
   "metadata": {},
   "outputs": [
    {
     "name": "stdout",
     "output_type": "stream",
     "text": [
      "Dimension embedding = 64\n",
      "Vocabulary size = 95811\n"
     ]
    },
    {
     "data": {
      "text/plain": [
       "TextClassEmbedding(\n",
       "  (embedding): EmbeddingBag(95811, 64, mode='mean')\n",
       "  (fc): Linear(in_features=64, out_features=4, bias=True)\n",
       ")"
      ]
     },
     "execution_count": 17,
     "metadata": {},
     "output_type": "execute_result"
    }
   ],
   "source": [
    "emsize=64 ##Size of the embedding\n",
    "vocab_size = len(vocab)\n",
    "print(f'Dimension embedding = {emsize}')\n",
    "print(f'Vocabulary size = {vocab_size}')\n",
    "\n",
    "model_boe = TextClassEmbedding(vocab_size, emsize, num_class).to(device)\n",
    "model_boe"
   ]
  },
  {
   "cell_type": "markdown",
   "id": "23dea49c-4d68-460f-bda2-b03cb6374ec0",
   "metadata": {},
   "source": [
    "#### Function to make predictions"
   ]
  },
  {
   "cell_type": "code",
   "execution_count": 18,
   "id": "c95a283c-4294-4878-a542-5f99cc62b23c",
   "metadata": {},
   "outputs": [],
   "source": [
    "def predict_boe(text, text_pipeline, model):\n",
    "    with torch.no_grad():\n",
    "        text = torch.tensor(text_pipeline(text))\n",
    "        output = model(text, torch.tensor([0]))\n",
    "        return ag_news_label[output.argmax(1).item() + 1]"
   ]
  },
  {
   "cell_type": "code",
   "execution_count": 19,
   "id": "0be382d7-a12f-480f-af37-7ebb32ebff80",
   "metadata": {},
   "outputs": [
    {
     "name": "stdout",
     "output_type": "stream",
     "text": [
      "Sentence : 'I like sports' \n",
      "Predictions with initialized model (not yet trained):  Sci/Tec\n"
     ]
    }
   ],
   "source": [
    "print(\"Sentence : 'I like sports' \")\n",
    "print('Predictions with initialized model (not yet trained): ',\n",
    "      predict_boe(\"I like sports\", text_pipeline, model_boe) )"
   ]
  },
  {
   "cell_type": "markdown",
   "id": "f7cf0252-7633-4605-b6fe-25dbc06320b6",
   "metadata": {},
   "source": [
    "#### Function to evaluate the model"
   ]
  },
  {
   "cell_type": "code",
   "execution_count": 20,
   "id": "cd350db7-332c-43ab-b7e5-82ad8c759a53",
   "metadata": {},
   "outputs": [],
   "source": [
    "def evaluate_boe(dataloader, model):\n",
    "    model.eval()\n",
    "    total_acc, total_count= 0, 0\n",
    "\n",
    "    with torch.no_grad():\n",
    "        for idx, (label, text, offsets) in enumerate(dataloader):\n",
    "            predicted_label = model(text, offsets)\n",
    "\n",
    "            total_acc += (predicted_label.argmax(1) == label).sum().item()\n",
    "            total_count += label.size(0)\n",
    "    return total_acc / total_count"
   ]
  },
  {
   "cell_type": "code",
   "execution_count": 21,
   "id": "02c18638-7fb6-4d50-9603-6a96fdc7fe71",
   "metadata": {},
   "outputs": [
    {
     "name": "stdout",
     "output_type": "stream",
     "text": [
      "Accuray on test data with initialized model (not yet trained):\n"
     ]
    },
    {
     "data": {
      "text/plain": [
       "0.26460526315789473"
      ]
     },
     "execution_count": 21,
     "metadata": {},
     "output_type": "execute_result"
    }
   ],
   "source": [
    "print('Accuray on test data with initialized model (not yet trained):')\n",
    "evaluate_boe(test_dataloader, model_boe)"
   ]
  },
  {
   "cell_type": "markdown",
   "id": "892ff9f2-150d-47cc-9a4e-3b0b5454c5f7",
   "metadata": {},
   "source": [
    "#### Training the model"
   ]
  },
  {
   "cell_type": "code",
   "execution_count": 22,
   "id": "9924a676-1cf2-4fb0-89bf-40408e737826",
   "metadata": {},
   "outputs": [],
   "source": [
    "LR=0.1\n",
    "##optimizer, loss function, and lr scheduler\n",
    "criterion = torch.nn.CrossEntropyLoss()\n",
    "optimizer = torch.optim.SGD(model_boe.parameters(), lr=LR)\n",
    "scheduler = torch.optim.lr_scheduler.StepLR(optimizer, 18, gamma=0.1)"
   ]
  },
  {
   "cell_type": "code",
   "execution_count": 23,
   "id": "d40495b3-e938-42d0-8159-763ee10fc175",
   "metadata": {
    "scrolled": true
   },
   "outputs": [
    {
     "name": "stderr",
     "output_type": "stream",
     "text": [
      "  0%|                                                                                            | 0/50 [00:00<?, ?it/s]/home/adrian/Documents/ibm-certifications/venv/lib/python3.12/site-packages/torch/optim/lr_scheduler.py:402: UserWarning: To get the last learning rate computed by the scheduler, please use `get_last_lr()`.\n",
      "  warnings.warn(\"To get the last learning rate computed by the scheduler, \"\n",
      "  2%|█▋                                                                                  | 1/50 [00:02<01:39,  2.04s/it]"
     ]
    },
    {
     "name": "stdout",
     "output_type": "stream",
     "text": [
      "Epoch: 1 , LR =  [0.1] Loss =  517.4307280778885 Accuracy_val:  0.32916666666666666\n"
     ]
    },
    {
     "name": "stderr",
     "output_type": "stream",
     "text": [
      "  4%|███▎                                                                                | 2/50 [00:04<01:43,  2.15s/it]"
     ]
    },
    {
     "name": "stdout",
     "output_type": "stream",
     "text": [
      "Epoch: 2 , LR =  [0.1] Loss =  507.9834963083267 Accuracy_val:  0.39416666666666667\n"
     ]
    },
    {
     "name": "stderr",
     "output_type": "stream",
     "text": [
      "  6%|█████                                                                               | 3/50 [00:06<01:38,  2.10s/it]"
     ]
    },
    {
     "name": "stdout",
     "output_type": "stream",
     "text": [
      "Epoch: 3 , LR =  [0.1] Loss =  498.5031530857086 Accuracy_val:  0.45916666666666667\n"
     ]
    },
    {
     "name": "stderr",
     "output_type": "stream",
     "text": [
      "  8%|██████▋                                                                             | 4/50 [00:08<01:34,  2.05s/it]"
     ]
    },
    {
     "name": "stdout",
     "output_type": "stream",
     "text": [
      "Epoch: 4 , LR =  [0.1] Loss =  488.08115589618683 Accuracy_val:  0.5025\n"
     ]
    },
    {
     "name": "stderr",
     "output_type": "stream",
     "text": [
      " 10%|████████▍                                                                           | 5/50 [00:10<01:33,  2.07s/it]"
     ]
    },
    {
     "name": "stdout",
     "output_type": "stream",
     "text": [
      "Epoch: 5 , LR =  [0.1] Loss =  476.57840526103973 Accuracy_val:  0.525\n"
     ]
    },
    {
     "name": "stderr",
     "output_type": "stream",
     "text": [
      " 12%|██████████                                                                          | 6/50 [00:12<01:31,  2.07s/it]"
     ]
    },
    {
     "name": "stdout",
     "output_type": "stream",
     "text": [
      "Epoch: 6 , LR =  [0.1] Loss =  463.82863652706146 Accuracy_val:  0.5475\n"
     ]
    },
    {
     "name": "stderr",
     "output_type": "stream",
     "text": [
      " 14%|███████████▊                                                                        | 7/50 [00:14<01:28,  2.05s/it]"
     ]
    },
    {
     "name": "stdout",
     "output_type": "stream",
     "text": [
      "Epoch: 7 , LR =  [0.1] Loss =  449.9392058849335 Accuracy_val:  0.5825\n"
     ]
    },
    {
     "name": "stderr",
     "output_type": "stream",
     "text": [
      " 16%|█████████████▍                                                                      | 8/50 [00:16<01:25,  2.03s/it]"
     ]
    },
    {
     "name": "stdout",
     "output_type": "stream",
     "text": [
      "Epoch: 8 , LR =  [0.1] Loss =  435.1223895549774 Accuracy_val:  0.5975\n"
     ]
    },
    {
     "name": "stderr",
     "output_type": "stream",
     "text": [
      " 18%|███████████████                                                                     | 9/50 [00:18<01:22,  2.00s/it]"
     ]
    },
    {
     "name": "stdout",
     "output_type": "stream",
     "text": [
      "Epoch: 9 , LR =  [0.1] Loss =  419.62950909137726 Accuracy_val:  0.6175\n"
     ]
    },
    {
     "name": "stderr",
     "output_type": "stream",
     "text": [
      " 20%|████████████████▌                                                                  | 10/50 [00:20<01:20,  2.00s/it]"
     ]
    },
    {
     "name": "stdout",
     "output_type": "stream",
     "text": [
      "Epoch: 10 , LR =  [0.1] Loss =  403.75398510694504 Accuracy_val:  0.63\n"
     ]
    },
    {
     "name": "stderr",
     "output_type": "stream",
     "text": [
      " 22%|██████████████████▎                                                                | 11/50 [00:22<01:17,  2.00s/it]"
     ]
    },
    {
     "name": "stdout",
     "output_type": "stream",
     "text": [
      "Epoch: 11 , LR =  [0.1] Loss =  387.7061019539833 Accuracy_val:  0.6558333333333334\n"
     ]
    },
    {
     "name": "stderr",
     "output_type": "stream",
     "text": [
      " 24%|███████████████████▉                                                               | 12/50 [00:24<01:18,  2.06s/it]"
     ]
    },
    {
     "name": "stdout",
     "output_type": "stream",
     "text": [
      "Epoch: 12 , LR =  [0.1] Loss =  371.77399629354477 Accuracy_val:  0.6775\n"
     ]
    },
    {
     "name": "stderr",
     "output_type": "stream",
     "text": [
      " 26%|█████████████████████▌                                                             | 13/50 [00:26<01:18,  2.11s/it]"
     ]
    },
    {
     "name": "stdout",
     "output_type": "stream",
     "text": [
      "Epoch: 13 , LR =  [0.1] Loss =  356.20282632112503 Accuracy_val:  0.69\n"
     ]
    },
    {
     "name": "stderr",
     "output_type": "stream",
     "text": [
      " 28%|███████████████████████▏                                                           | 14/50 [00:28<01:16,  2.12s/it]"
     ]
    },
    {
     "name": "stdout",
     "output_type": "stream",
     "text": [
      "Epoch: 14 , LR =  [0.1] Loss =  341.2853279709816 Accuracy_val:  0.7075\n"
     ]
    },
    {
     "name": "stderr",
     "output_type": "stream",
     "text": [
      " 30%|████████████████████████▉                                                          | 15/50 [00:31<01:15,  2.14s/it]"
     ]
    },
    {
     "name": "stdout",
     "output_type": "stream",
     "text": [
      "Epoch: 15 , LR =  [0.1] Loss =  327.090489923954 Accuracy_val:  0.7175\n"
     ]
    },
    {
     "name": "stderr",
     "output_type": "stream",
     "text": [
      " 32%|██████████████████████████▌                                                        | 16/50 [00:33<01:13,  2.16s/it]"
     ]
    },
    {
     "name": "stdout",
     "output_type": "stream",
     "text": [
      "Epoch: 16 , LR =  [0.1] Loss =  313.69002264738083 Accuracy_val:  0.7283333333333334\n"
     ]
    },
    {
     "name": "stderr",
     "output_type": "stream",
     "text": [
      " 34%|████████████████████████████▏                                                      | 17/50 [00:35<01:11,  2.17s/it]"
     ]
    },
    {
     "name": "stdout",
     "output_type": "stream",
     "text": [
      "Epoch: 17 , LR =  [0.1] Loss =  301.25264674425125 Accuracy_val:  0.74\n"
     ]
    },
    {
     "name": "stderr",
     "output_type": "stream",
     "text": [
      " 36%|█████████████████████████████▉                                                     | 18/50 [00:37<01:10,  2.21s/it]"
     ]
    },
    {
     "name": "stdout",
     "output_type": "stream",
     "text": [
      "Epoch: 18 , LR =  [0.1] Loss =  289.69102931022644 Accuracy_val:  0.7516666666666667\n"
     ]
    },
    {
     "name": "stderr",
     "output_type": "stream",
     "text": [
      " 38%|███████████████████████████████▌                                                   | 19/50 [00:40<01:08,  2.21s/it]"
     ]
    },
    {
     "name": "stdout",
     "output_type": "stream",
     "text": [
      "Epoch: 19 , LR =  [0.1] Loss =  278.93482995033264 Accuracy_val:  0.7625\n"
     ]
    },
    {
     "name": "stderr",
     "output_type": "stream",
     "text": [
      " 40%|█████████████████████████████████▏                                                 | 20/50 [00:42<01:06,  2.22s/it]"
     ]
    },
    {
     "name": "stdout",
     "output_type": "stream",
     "text": [
      "Epoch: 20 , LR =  [0.1] Loss =  268.9371289610863 Accuracy_val:  0.7716666666666666\n"
     ]
    },
    {
     "name": "stderr",
     "output_type": "stream",
     "text": [
      " 42%|██████████████████████████████████▊                                                | 21/50 [00:44<01:04,  2.21s/it]"
     ]
    },
    {
     "name": "stdout",
     "output_type": "stream",
     "text": [
      "Epoch: 21 , LR =  [0.1] Loss =  259.79381275177 Accuracy_val:  0.7833333333333333\n"
     ]
    },
    {
     "name": "stderr",
     "output_type": "stream",
     "text": [
      " 44%|████████████████████████████████████▌                                              | 22/50 [00:46<01:01,  2.20s/it]"
     ]
    },
    {
     "name": "stdout",
     "output_type": "stream",
     "text": [
      "Epoch: 22 , LR =  [0.1] Loss =  251.2922660112381 Accuracy_val:  0.785\n"
     ]
    },
    {
     "name": "stderr",
     "output_type": "stream",
     "text": [
      " 46%|██████████████████████████████████████▏                                            | 23/50 [00:48<00:59,  2.19s/it]"
     ]
    },
    {
     "name": "stdout",
     "output_type": "stream",
     "text": [
      "Epoch: 23 , LR =  [0.1] Loss =  243.46437910199165 Accuracy_val:  0.7958333333333333\n"
     ]
    },
    {
     "name": "stderr",
     "output_type": "stream",
     "text": [
      " 48%|███████████████████████████████████████▊                                           | 24/50 [00:50<00:56,  2.18s/it]"
     ]
    },
    {
     "name": "stdout",
     "output_type": "stream",
     "text": [
      "Epoch: 24 , LR =  [0.1] Loss =  236.23315098881721 Accuracy_val:  0.7975\n"
     ]
    },
    {
     "name": "stderr",
     "output_type": "stream",
     "text": [
      " 50%|█████████████████████████████████████████▌                                         | 25/50 [00:53<00:54,  2.18s/it]"
     ]
    },
    {
     "name": "stdout",
     "output_type": "stream",
     "text": [
      "Epoch: 25 , LR =  [0.1] Loss =  229.4958538711071 Accuracy_val:  0.7991666666666667\n"
     ]
    },
    {
     "name": "stderr",
     "output_type": "stream",
     "text": [
      " 52%|███████████████████████████████████████████▏                                       | 26/50 [00:55<00:52,  2.17s/it]"
     ]
    },
    {
     "name": "stdout",
     "output_type": "stream",
     "text": [
      "Epoch: 26 , LR =  [0.1] Loss =  223.25660571455956 Accuracy_val:  0.8075\n"
     ]
    },
    {
     "name": "stderr",
     "output_type": "stream",
     "text": [
      " 54%|████████████████████████████████████████████▊                                      | 27/50 [00:57<00:49,  2.17s/it]"
     ]
    },
    {
     "name": "stdout",
     "output_type": "stream",
     "text": [
      "Epoch: 27 , LR =  [0.1] Loss =  217.45814195275307 Accuracy_val:  0.8116666666666666\n"
     ]
    },
    {
     "name": "stderr",
     "output_type": "stream",
     "text": [
      " 56%|██████████████████████████████████████████████▍                                    | 28/50 [00:59<00:47,  2.16s/it]"
     ]
    },
    {
     "name": "stdout",
     "output_type": "stream",
     "text": [
      "Epoch: 28 , LR =  [0.1] Loss =  212.07760870456696 Accuracy_val:  0.815\n"
     ]
    },
    {
     "name": "stderr",
     "output_type": "stream",
     "text": [
      " 58%|████████████████████████████████████████████████▏                                  | 29/50 [01:01<00:45,  2.15s/it]"
     ]
    },
    {
     "name": "stdout",
     "output_type": "stream",
     "text": [
      "Epoch: 29 , LR =  [0.1] Loss =  207.0140832066536 Accuracy_val:  0.8175\n"
     ]
    },
    {
     "name": "stderr",
     "output_type": "stream",
     "text": [
      " 60%|█████████████████████████████████████████████████▊                                 | 30/50 [01:03<00:42,  2.14s/it]"
     ]
    },
    {
     "name": "stdout",
     "output_type": "stream",
     "text": [
      "Epoch: 30 , LR =  [0.1] Loss =  202.26981312036514 Accuracy_val:  0.82\n"
     ]
    },
    {
     "name": "stderr",
     "output_type": "stream",
     "text": [
      " 62%|███████████████████████████████████████████████████▍                               | 31/50 [01:05<00:40,  2.12s/it]"
     ]
    },
    {
     "name": "stdout",
     "output_type": "stream",
     "text": [
      "Epoch: 31 , LR =  [0.1] Loss =  197.85312244296074 Accuracy_val:  0.8191666666666667\n"
     ]
    },
    {
     "name": "stderr",
     "output_type": "stream",
     "text": [
      " 64%|█████████████████████████████████████████████████████                              | 32/50 [01:08<00:38,  2.13s/it]"
     ]
    },
    {
     "name": "stdout",
     "output_type": "stream",
     "text": [
      "Epoch: 32 , LR =  [0.1] Loss =  193.70529717206955 Accuracy_val:  0.825\n"
     ]
    },
    {
     "name": "stderr",
     "output_type": "stream",
     "text": [
      " 66%|██████████████████████████████████████████████████████▊                            | 33/50 [01:10<00:36,  2.14s/it]"
     ]
    },
    {
     "name": "stdout",
     "output_type": "stream",
     "text": [
      "Epoch: 33 , LR =  [0.1] Loss =  189.80864110589027 Accuracy_val:  0.8266666666666667\n"
     ]
    },
    {
     "name": "stderr",
     "output_type": "stream",
     "text": [
      " 68%|████████████████████████████████████████████████████████▍                          | 34/50 [01:12<00:36,  2.28s/it]"
     ]
    },
    {
     "name": "stdout",
     "output_type": "stream",
     "text": [
      "Epoch: 34 , LR =  [0.1] Loss =  186.18155547976494 Accuracy_val:  0.8283333333333334\n"
     ]
    },
    {
     "name": "stderr",
     "output_type": "stream",
     "text": [
      " 70%|██████████████████████████████████████████████████████████                         | 35/50 [01:15<00:33,  2.24s/it]"
     ]
    },
    {
     "name": "stdout",
     "output_type": "stream",
     "text": [
      "Epoch: 35 , LR =  [0.1] Loss =  182.6917945444584 Accuracy_val:  0.83\n"
     ]
    },
    {
     "name": "stderr",
     "output_type": "stream",
     "text": [
      " 72%|███████████████████████████████████████████████████████████▊                       | 36/50 [01:17<00:31,  2.25s/it]"
     ]
    },
    {
     "name": "stdout",
     "output_type": "stream",
     "text": [
      "Epoch: 36 , LR =  [0.1] Loss =  179.40830793976784 Accuracy_val:  0.8308333333333333\n"
     ]
    },
    {
     "name": "stderr",
     "output_type": "stream",
     "text": [
      " 74%|█████████████████████████████████████████████████████████████▍                     | 37/50 [01:19<00:29,  2.30s/it]"
     ]
    },
    {
     "name": "stdout",
     "output_type": "stream",
     "text": [
      "Epoch: 37 , LR =  [0.1] Loss =  176.27862405776978 Accuracy_val:  0.8341666666666666\n"
     ]
    },
    {
     "name": "stderr",
     "output_type": "stream",
     "text": [
      " 76%|███████████████████████████████████████████████████████████████                    | 38/50 [01:21<00:27,  2.25s/it]"
     ]
    },
    {
     "name": "stdout",
     "output_type": "stream",
     "text": [
      "Epoch: 38 , LR =  [0.1] Loss =  173.28518164157867 Accuracy_val:  0.8416666666666667\n"
     ]
    },
    {
     "name": "stderr",
     "output_type": "stream",
     "text": [
      " 78%|████████████████████████████████████████████████████████████████▋                  | 39/50 [01:23<00:24,  2.22s/it]"
     ]
    },
    {
     "name": "stdout",
     "output_type": "stream",
     "text": [
      "Epoch: 39 , LR =  [0.1] Loss =  170.49567985534668 Accuracy_val:  0.8433333333333334\n"
     ]
    },
    {
     "name": "stderr",
     "output_type": "stream",
     "text": [
      " 80%|██████████████████████████████████████████████████████████████████▍                | 40/50 [01:26<00:22,  2.20s/it]"
     ]
    },
    {
     "name": "stdout",
     "output_type": "stream",
     "text": [
      "Epoch: 40 , LR =  [0.1] Loss =  167.83947831392288 Accuracy_val:  0.8441666666666666\n"
     ]
    },
    {
     "name": "stderr",
     "output_type": "stream",
     "text": [
      " 82%|████████████████████████████████████████████████████████████████████               | 41/50 [01:28<00:19,  2.18s/it]"
     ]
    },
    {
     "name": "stdout",
     "output_type": "stream",
     "text": [
      "Epoch: 41 , LR =  [0.1] Loss =  165.26033726334572 Accuracy_val:  0.8458333333333333\n"
     ]
    },
    {
     "name": "stderr",
     "output_type": "stream",
     "text": [
      " 84%|█████████████████████████████████████████████████████████████████████▋             | 42/50 [01:30<00:17,  2.18s/it]"
     ]
    },
    {
     "name": "stdout",
     "output_type": "stream",
     "text": [
      "Epoch: 42 , LR =  [0.1] Loss =  162.84799441695213 Accuracy_val:  0.85\n"
     ]
    },
    {
     "name": "stderr",
     "output_type": "stream",
     "text": [
      " 86%|███████████████████████████████████████████████████████████████████████▍           | 43/50 [01:32<00:15,  2.17s/it]"
     ]
    },
    {
     "name": "stdout",
     "output_type": "stream",
     "text": [
      "Epoch: 43 , LR =  [0.1] Loss =  160.48250076174736 Accuracy_val:  0.8516666666666667\n"
     ]
    },
    {
     "name": "stderr",
     "output_type": "stream",
     "text": [
      " 88%|█████████████████████████████████████████████████████████████████████████          | 44/50 [01:34<00:12,  2.16s/it]"
     ]
    },
    {
     "name": "stdout",
     "output_type": "stream",
     "text": [
      "Epoch: 44 , LR =  [0.1] Loss =  158.25948445498943 Accuracy_val:  0.8533333333333334\n"
     ]
    },
    {
     "name": "stderr",
     "output_type": "stream",
     "text": [
      " 90%|██████████████████████████████████████████████████████████████████████████▋        | 45/50 [01:36<00:10,  2.15s/it]"
     ]
    },
    {
     "name": "stdout",
     "output_type": "stream",
     "text": [
      "Epoch: 45 , LR =  [0.1] Loss =  156.14222052693367 Accuracy_val:  0.8558333333333333\n"
     ]
    },
    {
     "name": "stderr",
     "output_type": "stream",
     "text": [
      " 92%|████████████████████████████████████████████████████████████████████████████▎      | 46/50 [01:39<00:08,  2.16s/it]"
     ]
    },
    {
     "name": "stdout",
     "output_type": "stream",
     "text": [
      "Epoch: 46 , LR =  [0.1] Loss =  154.07164554297924 Accuracy_val:  0.8566666666666667\n"
     ]
    },
    {
     "name": "stderr",
     "output_type": "stream",
     "text": [
      " 94%|██████████████████████████████████████████████████████████████████████████████     | 47/50 [01:41<00:06,  2.15s/it]"
     ]
    },
    {
     "name": "stdout",
     "output_type": "stream",
     "text": [
      "Epoch: 47 , LR =  [0.1] Loss =  152.10984510183334 Accuracy_val:  0.8583333333333333\n"
     ]
    },
    {
     "name": "stderr",
     "output_type": "stream",
     "text": [
      " 96%|███████████████████████████████████████████████████████████████████████████████▋   | 48/50 [01:43<00:04,  2.15s/it]"
     ]
    },
    {
     "name": "stdout",
     "output_type": "stream",
     "text": [
      "Epoch: 48 , LR =  [0.1] Loss =  150.20728535950184 Accuracy_val:  0.8575\n"
     ]
    },
    {
     "name": "stderr",
     "output_type": "stream",
     "text": [
      " 98%|█████████████████████████████████████████████████████████████████████████████████▎ | 49/50 [01:45<00:02,  2.14s/it]"
     ]
    },
    {
     "name": "stdout",
     "output_type": "stream",
     "text": [
      "Epoch: 49 , LR =  [0.1] Loss =  148.34273426234722 Accuracy_val:  0.86\n"
     ]
    },
    {
     "name": "stderr",
     "output_type": "stream",
     "text": [
      "100%|███████████████████████████████████████████████████████████████████████████████████| 50/50 [01:47<00:00,  2.15s/it]"
     ]
    },
    {
     "name": "stdout",
     "output_type": "stream",
     "text": [
      "Epoch: 50 , LR =  [0.1] Loss =  146.63745617866516 Accuracy_val:  0.8608333333333333\n"
     ]
    },
    {
     "name": "stderr",
     "output_type": "stream",
     "text": [
      "\n"
     ]
    }
   ],
   "source": [
    "##training the model\n",
    "EPOCHS = 50\n",
    "cum_loss_list=[]\n",
    "acc_epoch=[]\n",
    "acc_old=0\n",
    "\n",
    "for epoch in tqdm(range(1, EPOCHS + 1)):\n",
    "    model_boe.train()\n",
    "    cum_loss=0\n",
    "    for idx, (label, text, offsets) in enumerate(train_dataloader):\n",
    "        optimizer.zero_grad()\n",
    "        predicted_label = model_boe(text, offsets)\n",
    "        loss = criterion(predicted_label, label)\n",
    "        loss.backward()\n",
    "        #torch.nn.utils.clip_grad_norm_(model.parameters(), 0.1)\n",
    "        optimizer.step()\n",
    "        cum_loss+=loss.item()\n",
    "\n",
    "    cum_loss_list.append(cum_loss)\n",
    "    accu_val = evaluate_boe(valid_dataloader, model_boe)\n",
    "    acc_epoch.append(accu_val)\n",
    "\n",
    "    if accu_val > acc_old:\n",
    "      acc_old= accu_val\n",
    "      torch.save(model_boe.state_dict(), 'model_boe.pth')\n",
    "    print('Epoch:', epoch, ', LR = ', torch.optim.lr_scheduler.StepLR.get_lr(scheduler),\n",
    "          'Loss = ', cum_loss, 'Accuracy_val: ', accu_val)"
   ]
  },
  {
   "cell_type": "code",
   "execution_count": 25,
   "id": "e74a9ffd-ebb2-448b-a525-0b901a808b96",
   "metadata": {},
   "outputs": [
    {
     "data": {
      "image/png": "[encoded data removed]",
      "text/plain": [
       "<Figure size 640x480 with 2 Axes>"
      ]
     },
     "metadata": {},
     "output_type": "display_data"
    }
   ],
   "source": [
    "plot(cum_loss_list,acc_epoch, title = 'Bag of Embeddins Net')"
   ]
  },
  {
   "cell_type": "code",
   "execution_count": 26,
   "id": "acb9ff8c-d48f-461d-bce4-c7562a80dd74",
   "metadata": {},
   "outputs": [
    {
     "name": "stdout",
     "output_type": "stream",
     "text": [
      "Accuray on test set for trained model =  0.8477631578947369\n"
     ]
    }
   ],
   "source": [
    "print('Accuray on test set for trained model = ', evaluate_boe(test_dataloader, model_boe) )"
   ]
  },
  {
   "cell_type": "markdown",
   "id": "b2df76f0-7ee6-4630-9aad-fed05b5fb3f2",
   "metadata": {},
   "source": [
    "#### Making some predictions on the Test set"
   ]
  },
  {
   "cell_type": "code",
   "execution_count": 27,
   "id": "117d620f-f7bb-4b1e-bf43-bb1696f9c173",
   "metadata": {},
   "outputs": [
    {
     "data": {
      "text/plain": [
       "'Sports'"
      ]
     },
     "execution_count": 27,
     "metadata": {},
     "output_type": "execute_result"
    }
   ],
   "source": [
    "article=\"\"\"Canada navigated a stiff test against the Republic of Ireland on a rain soaked evening in Perth, coming from behind to claim a vital 2-1 victory at the Women’s World Cup.\n",
    "Katie McCabe opened the scoring with an incredible Olimpico goal – scoring straight from a corner kick – as her corner flew straight over the despairing Canada goalkeeper Kailen Sheridan at Perth Rectangular Stadium in Australia.\n",
    "Just when Ireland thought it had safely navigated itself to half time with a lead, Megan Connolly failed to get a clean connection on a clearance with the resulting contact squirming into her own net to level the score.\n",
    "Minutes into the second half, Adriana Leon completed the turnaround for the Olympic champion, slotting home from the edge of the area to seal the three points.\"\"\"\n",
    "\n",
    "result = predict_boe(article, text_pipeline, model_boe)\n",
    "result"
   ]
  },
  {
   "cell_type": "code",
   "execution_count": 28,
   "id": "3c629ed8-df9b-48ae-a213-c04c881aee72",
   "metadata": {},
   "outputs": [
    {
     "name": "stdout",
     "output_type": "stream",
     "text": [
      "Predicted label:  Sports\n",
      "True label:  Sports\n",
      "Text:  liverpool #39 s benitez hopes to sign new striker liverpool manager rafael benitez would like to sign a new striker in january #39 s transfer window after an injured djibril cisse was sidelined for the rest of the season but warned he would not break the bank to sign someone .\n",
      "----------------------- \n",
      "\n",
      "Predicted label:  Business\n",
      "True label:  Business\n",
      "Text:  cvs profit slips as eckerd expenses weigh cvs corp . ( cvs . n quote , profile , research ) , the no . 2 us drugstore chain , on thursday reported a lower quarterly profit as it grappled with expenses tied to its recent purchase of eckerd drug stores from jc penney co .\n",
      "----------------------- \n",
      "\n",
      "Predicted label:  Sports\n",
      "True label:  Sports\n",
      "Text:  pudge , guillen leave with injuries the tigers lost both of their all-stars , shortstop carlos guillen and catcher ivan rodriguez , to knee injuries on separate plays in saturday #39 s game against the twins .\n",
      "----------------------- \n",
      "\n",
      "Predicted label:  Sci/Tec\n",
      "True label:  Sci/Tec\n",
      "Text:  patent case challenges microsoft #39 s #39 autoplay #39 a federal judge has set a december date for a patent suit challenging quot autoplay quot technology included in recent versions of microsoft windows .\n",
      "----------------------- \n",
      "\n",
      "Predicted label:  Sci/Tec\n",
      "True label:  World\n",
      "Text:  dogs said to smell cancer signs london -- it has long been suspected that man ' s best friend has a special ability to sense when something is wrong with us . now , the first experiment to verify that scientifically has demonstrated that dogs are able to smell cancer .\n",
      "----------------------- \n",
      "\n",
      "Predicted label:  World\n",
      "True label:  World\n",
      "Text:  nepal rejects un mediation nepalese prime minister has rejected the un offer of mediating in talks with maoist rebels . but sher bahadur deuba has not ruled out an expanded role for india to resolve the conflict in the himalayan kingdom .\n",
      "----------------------- \n",
      "\n",
      "Predicted label:  Sci/Tec\n",
      "True label:  Sci/Tec\n",
      "Text:  clearest view yet of saturn #39 s largest moon scientists controlling the cameras aboard the cassini spacecraft in orbit around saturn have just recovered two extraordinary , contrasting images of the planet #39 s most intriguing moons .\n",
      "----------------------- \n",
      "\n",
      "Predicted label:  Sports\n",
      "True label:  Sports\n",
      "Text:  titans ' mcnair hints at retiring from nfl ( ap ) ap - tennessee titans quarterback steve mcnair hinted sunday that his 10th season in the nfl could be his last .\n",
      "----------------------- \n",
      "\n",
      "Predicted label:  Sci/Tec\n",
      "True label:  Sci/Tec\n",
      "Text:  can ' t hide your lying . . . face ? in search of the ultimate lie detector , researchers turn to thermal facial scans , brain wiring and eyeball tracking . but deception still , well , <unk> . by randy dotinga .\n",
      "----------------------- \n",
      "\n",
      "Predicted label:  Sports\n",
      "True label:  Sports\n",
      "Text:  #39 emperor #39 adriano has inter under his rule one match into the italian league season and ( emperor ) adriano already has inter milan under his rule . the brazilian striker has scored six goals in inter #39 s first four matches this season , including\n",
      "----------------------- \n",
      "\n",
      "Predicted label:  World\n",
      "True label:  World\n",
      "Text:  new bomb blast wounds 15 in india suspected separatists bombed a power line , a gas pipeline , a tea plantation and a crowded marketplace in northeastern india on sunday , intensifying a campaign of violence\n",
      "----------------------- \n",
      "\n",
      "Predicted label:  Sports\n",
      "True label:  Sports\n",
      "Text:  capriati <unk> serena it was just about a year ago that jennifer capriati had this very same feeling . there she was , in arthur ashe stadium , the lights glaring , more than 20 , 000 fans screaming . only the opponent was different , as capriati faced justine henin-hardenne , serving for what would become one of the most important matches of her career . but that night , . . .\n",
      "----------------------- \n",
      "\n",
      "Predicted label:  World\n",
      "True label:  World\n",
      "Text:  un , ending mission , says some human rights improvement sudan ' s darfur region ( canadian press ) canadian press - al-fasher , sudan ( ap ) - security has improved inside camps in sudan ' s violence-torn darfur region , but displaced villagers still face attacks and abuse when leave the camps , a united nations team said saturday , wrapping up a mission that could determine whether sudan is hit with international sanctions .\n",
      "----------------------- \n",
      "\n",
      "Predicted label:  Sci/Tec\n",
      "True label:  Business\n",
      "Text:  linux paris weighs a shift to open-source camp paris the open-source computer system known as linux won a tough battle over microsoft earlier this year when the city of munich decided to change the operating software of 14 , 000 government computers , despite the personal intervention of steve ballmer\n",
      "----------------------- \n",
      "\n",
      "Predicted label:  Business\n",
      "True label:  Business\n",
      "Text:  strong chinese demand props up oil crude hovers around \\$46 a barrel amid demand from most populous country , damage reports from ivan . london ( reuters ) - oil prices held above \\$46 a barrel tuesday as china showed no letup in its strong demand\n",
      "----------------------- \n",
      "\n",
      "Predicted label:  Sci/Tec\n",
      "True label:  Business\n",
      "Text:  mom 2005 released to manufacturing microsoft on wednesday announced the release to manufacturing of microsoft operations manager ( mom ) 2005 and mom 2005 workgroup edition , a new edition that the company previously called mom 2005 express .\n",
      "----------------------- \n",
      "\n"
     ]
    }
   ],
   "source": [
    "y,x,offsets = next(iter(test_dataloader))\n",
    "output = model_boe(x, offsets)\n",
    "\n",
    "for i in range(len(offsets)-1):\n",
    "    #output = model_(torch.unsqueeze(x[i],0).to(device))\n",
    "    #output = model(x, offsets)\n",
    "    pred_label = ag_news_label[output.argmax(1)[i].item() +1]\n",
    "    print( 'Predicted label: ', pred_label)\n",
    "    print( 'True label: ', ag_news_label[y[i].item()+ 1])\n",
    "    print( 'Text: ', index_to_en(x[offsets[i].item():offsets[i+1].item()]))\n",
    "    print('----------------------- \\n')\n",
    "    if i==15:\n",
    "        break"
   ]
  },
  {
   "cell_type": "markdown",
   "id": "50bb4446-c48d-432f-aaea-e3c2cf0757b2",
   "metadata": {},
   "source": [
    "## Classifying text using Transformer Encoder"
   ]
  },
  {
   "cell_type": "markdown",
   "id": "a3ff2baa-ee04-4623-b76f-4107491d9f61",
   "metadata": {},
   "source": [
    "#### DataLoaders"
   ]
  },
  {
   "cell_type": "code",
   "execution_count": 29,
   "id": "8718adcc-4e04-46f9-8863-266e855bcc43",
   "metadata": {},
   "outputs": [],
   "source": [
    "def collate_batch_trans(batch):\n",
    "    label_list, text_list = [], []\n",
    "    for _label, _text in batch:\n",
    "        label_list.append(label_pipeline(_label))\n",
    "        text_list.append(torch.tensor(text_pipeline(_text), dtype=torch.int64))\n",
    "\n",
    "    label_list = torch.tensor(label_list, dtype=torch.int64)\n",
    "    text_list = pad_sequence(text_list, batch_first=True)  ###padding to sequences on the batch\n",
    "    ###pads the sequence with <unk> token\n",
    "\n",
    "    return label_list.to(device), text_list.to(device)"
   ]
  },
  {
   "cell_type": "code",
   "execution_count": 30,
   "id": "a597a038-023e-4f5c-927a-50fb454691be",
   "metadata": {},
   "outputs": [],
   "source": [
    "BATCH_SIZE = 64\n",
    "\n",
    "train_dataloader = DataLoader(\n",
    "    split_train_, batch_size=BATCH_SIZE, shuffle=True, collate_fn=collate_batch_trans\n",
    ")\n",
    "valid_dataloader = DataLoader(\n",
    "    split_valid_, batch_size=BATCH_SIZE, shuffle=True, collate_fn=collate_batch_trans\n",
    ")\n",
    "test_dataloader = DataLoader(\n",
    "    test_dataset, batch_size=BATCH_SIZE, shuffle=True, collate_fn=collate_batch_trans\n",
    ")"
   ]
  },
  {
   "cell_type": "code",
   "execution_count": 31,
   "id": "6f480885-fc6c-4f03-8d98-aaf300c17e44",
   "metadata": {},
   "outputs": [
    {
     "name": "stdout",
     "output_type": "stream",
     "text": [
      "tensor([0, 3, 0, 0, 2, 2, 2, 1, 0, 0, 1, 2, 3, 1, 1, 3, 0, 0, 0, 3, 1, 0, 2, 1,\n",
      "        1, 0, 0, 1, 1, 0, 1, 0, 2, 1, 3, 0, 1, 2, 2, 3, 2, 1, 3, 0, 0, 1, 0, 3,\n",
      "        1, 1, 0, 2, 0, 0, 1, 2, 1, 2, 0, 0, 0, 3, 1, 2])\n",
      "tensor([[ 2556,   722,  8188,  ...,     0,     0,     0],\n",
      "        [ 1321,  2228,    11,  ...,     0,     0,     0],\n",
      "        [  618,    33, 19488,  ...,     0,     0,     0],\n",
      "        ...,\n",
      "        [  312,  2599,   368,  ...,     0,     0,     0],\n",
      "        [ 1230,  3939,    11,  ...,     0,     0,     0],\n",
      "        [  838,     4, 24074,  ...,     0,     0,     0]])\n"
     ]
    }
   ],
   "source": [
    "label,sequence=next(iter(valid_dataloader ))\n",
    "print(label) ##batch size\n",
    "print(sequence) ###batch_size, sequence size"
   ]
  },
  {
   "cell_type": "markdown",
   "id": "faf8c076-261a-453d-b03b-731f8abb963b",
   "metadata": {},
   "source": [
    "#### Positional Encoding"
   ]
  },
  {
   "cell_type": "code",
   "execution_count": 32,
   "id": "9f0bd1a6-5567-443c-82b0-9b931f81605d",
   "metadata": {},
   "outputs": [],
   "source": [
    "class PositionalEncoding(nn.Module):\n",
    "    def __init__(self, d_model, vocab_size, dropout=0.1):\n",
    "        super().__init__()\n",
    "        self.dropout = nn.Dropout(p=dropout)\n",
    "\n",
    "        pe = torch.zeros(vocab_size, d_model)\n",
    "        position = torch.arange(0, vocab_size, dtype=torch.float).unsqueeze(1)\n",
    "        div_term = torch.exp(\n",
    "            torch.arange(0, d_model, 2).float()\n",
    "            * (-math.log(10000.0) / d_model)\n",
    "        )\n",
    "        pe[:, 0::2] = torch.sin(position * div_term)\n",
    "        pe[:, 1::2] = torch.cos(position * div_term)\n",
    "        pe = pe.unsqueeze(0)\n",
    "        self.register_buffer(\"pe\", pe)### no training, no gradients\n",
    "\n",
    "    def forward(self, x): ##x: batch_size, sequence_size, d_model\n",
    "        x = x + self.pe[:, : x.size(1), :]\n",
    "        return self.dropout(x)"
   ]
  },
  {
   "cell_type": "markdown",
   "id": "103fe3df-5f8d-4966-be5e-fbc97366a388",
   "metadata": {},
   "source": [
    "#### Defining Transformer Encoder Network"
   ]
  },
  {
   "cell_type": "code",
   "execution_count": 33,
   "id": "19149470-444d-494e-b88a-29434fe26bfc",
   "metadata": {},
   "outputs": [],
   "source": [
    "class TransformerEncoder(nn.Module):\n",
    "    \"\"\"\n",
    "    Text classifier based on a TransformerEncoder.\n",
    "    \"\"\"\n",
    "    def __init__(\n",
    "        self,\n",
    "        vocab_size,\n",
    "        num_class,\n",
    "        #embedding_dim=300, ###pretrained embedding\n",
    "        embedding_dim=64, ##training the embedding\n",
    "        nhead=4,\n",
    "        #nhead=5,\n",
    "        #dim_feedforward=2048,\n",
    "        dim_feedforward = 256,\n",
    "        num_layers=3,\n",
    "        #num_layers=6,\n",
    "        dropout=0.1,\n",
    "        activation=\"relu\",\n",
    "        classifier_dropout=0.1):\n",
    "\n",
    "        super().__init__()\n",
    "        #self.emb = nn.Embedding(vocab_size,embedding_dim)\n",
    "        #self.embedding = torch.nn.Embedding.from_pretrained(glove_vectors_6B.vectors,freeze=True)\n",
    "        self.embedding = nn.Embedding(vocab_size,embedding_dim)\n",
    "\n",
    "        self.pos_encoder = PositionalEncoding(\n",
    "            d_model=embedding_dim,\n",
    "            dropout=dropout,\n",
    "            vocab_size=vocab_size,\n",
    "        )\n",
    "\n",
    "        encoder_layer = nn.TransformerEncoderLayer(\n",
    "            d_model=embedding_dim,\n",
    "            nhead=nhead,\n",
    "            dim_feedforward=dim_feedforward,\n",
    "            dropout=dropout,\n",
    "        )\n",
    "        self.transformer_encoder = nn.TransformerEncoder(\n",
    "            encoder_layer,\n",
    "            num_layers=num_layers,\n",
    "        )\n",
    "        self.classifier = nn.Linear(embedding_dim, num_class)\n",
    "        self.d_model = embedding_dim\n",
    "        self.init_weights()\n",
    "        \n",
    "    def init_weights(self):\n",
    "        initrange = 0.5\n",
    "        self.embedding.weight.data.uniform_(-initrange, initrange)\n",
    "        self.classifier.weight.data.uniform_(-initrange, initrange)\n",
    "        self.classifier.bias.data.zero_()\n",
    "\n",
    "\n",
    "    def forward(self, x):\n",
    "        x = self.embedding(x) * math.sqrt(self.d_model)\n",
    "        x = self.pos_encoder(x)\n",
    "        x = self.transformer_encoder(x)\n",
    "        x = x.mean(dim=1)\n",
    "        x = self.classifier(x)\n",
    "\n",
    "        return x"
   ]
  },
  {
   "cell_type": "code",
   "execution_count": 34,
   "id": "fbd0ba34-088a-49e9-bd17-14b764008202",
   "metadata": {},
   "outputs": [
    {
     "name": "stderr",
     "output_type": "stream",
     "text": [
      "/home/adrian/Documents/ibm-certifications/venv/lib/python3.12/site-packages/torch/nn/modules/transformer.py:286: UserWarning: enable_nested_tensor is True, but self.use_nested_tensor is False because encoder_layer.self_attn.batch_first was not True(use batch_first for better inference performance)\n",
      "  warnings.warn(f\"enable_nested_tensor is True, but self.use_nested_tensor is False because {why_not_sparsity_fast_path}\")\n"
     ]
    },
    {
     "data": {
      "text/plain": [
       "TransformerEncoder(\n",
       "  (embedding): Embedding(95811, 64)\n",
       "  (pos_encoder): PositionalEncoding(\n",
       "    (dropout): Dropout(p=0.1, inplace=False)\n",
       "  )\n",
       "  (transformer_encoder): TransformerEncoder(\n",
       "    (layers): ModuleList(\n",
       "      (0-2): 3 x TransformerEncoderLayer(\n",
       "        (self_attn): MultiheadAttention(\n",
       "          (out_proj): NonDynamicallyQuantizableLinear(in_features=64, out_features=64, bias=True)\n",
       "        )\n",
       "        (linear1): Linear(in_features=64, out_features=256, bias=True)\n",
       "        (dropout): Dropout(p=0.1, inplace=False)\n",
       "        (linear2): Linear(in_features=256, out_features=64, bias=True)\n",
       "        (norm1): LayerNorm((64,), eps=1e-05, elementwise_affine=True)\n",
       "        (norm2): LayerNorm((64,), eps=1e-05, elementwise_affine=True)\n",
       "        (dropout1): Dropout(p=0.1, inplace=False)\n",
       "        (dropout2): Dropout(p=0.1, inplace=False)\n",
       "      )\n",
       "    )\n",
       "  )\n",
       "  (classifier): Linear(in_features=64, out_features=4, bias=True)\n",
       ")"
      ]
     },
     "execution_count": 34,
     "metadata": {},
     "output_type": "execute_result"
    }
   ],
   "source": [
    "model_trans = TransformerEncoder(vocab_size=vocab_size,num_class=4).to(device)\n",
    "model_trans"
   ]
  },
  {
   "cell_type": "markdown",
   "id": "563169bd-b87c-445e-a832-1f8a1744e5c4",
   "metadata": {},
   "source": [
    "#### function to make predictions"
   ]
  },
  {
   "cell_type": "code",
   "execution_count": 35,
   "id": "2d23fc0b-2c73-442d-bc25-856e6cb30dc2",
   "metadata": {},
   "outputs": [],
   "source": [
    "def predict_trans(text, text_pipeline, model):\n",
    "    with torch.no_grad():\n",
    "        text = torch.unsqueeze(torch.tensor(text_pipeline(text)),0).to(device)\n",
    "\n",
    "        output = model(text)\n",
    "        return ag_news_label[output.argmax(1).item() + 1]"
   ]
  },
  {
   "cell_type": "code",
   "execution_count": 36,
   "id": "05f52867-598b-4a11-a30a-dcf0483f925c",
   "metadata": {},
   "outputs": [
    {
     "name": "stdout",
     "output_type": "stream",
     "text": [
      "Sentence : 'I like sports' \n",
      "Predictions with initialized model (not yet trained):  Sci/Tec\n"
     ]
    }
   ],
   "source": [
    "print(\"Sentence : 'I like sports' \")\n",
    "print('Predictions with initialized model (not yet trained): ',predict_trans(\"I like sports\",text_pipeline,model_trans))"
   ]
  },
  {
   "cell_type": "markdown",
   "id": "96a0bcdd-100f-45b2-b239-a816b98df70c",
   "metadata": {},
   "source": [
    "#### Function to evaluate the model"
   ]
  },
  {
   "cell_type": "code",
   "execution_count": 37,
   "id": "b12c38f5-0717-468a-9c6d-ea796bb81add",
   "metadata": {},
   "outputs": [],
   "source": [
    "def evaluate_trans(dataloader, model_eval):\n",
    "    model_eval.eval()\n",
    "    total_acc, total_count= 0, 0\n",
    "\n",
    "    with torch.no_grad():\n",
    "        for idx, (label, text) in enumerate(dataloader):\n",
    "            predicted_label = model_eval(text.to(device))\n",
    "\n",
    "            total_acc += (predicted_label.argmax(1) == label).sum().item()\n",
    "            total_count += label.size(0)\n",
    "    return total_acc / total_count"
   ]
  },
  {
   "cell_type": "code",
   "execution_count": 38,
   "id": "c01f2855-96eb-4ddf-a118-02ad3e1c1a3a",
   "metadata": {},
   "outputs": [
    {
     "name": "stdout",
     "output_type": "stream",
     "text": [
      "Accuracy on test set of initial model (not yet trained) =  0.25\n"
     ]
    }
   ],
   "source": [
    "print('Accuracy on test set of initial model (not yet trained) = ', evaluate_trans(test_dataloader, model_trans)) ###evalutation without training"
   ]
  },
  {
   "cell_type": "markdown",
   "id": "320ee3d1-ad54-40f6-9091-1320abf892e2",
   "metadata": {},
   "source": [
    "#### Training"
   ]
  },
  {
   "cell_type": "code",
   "execution_count": 39,
   "id": "89d3b4d7-460b-4357-bbd1-80a9f6de5eb8",
   "metadata": {},
   "outputs": [
    {
     "name": "stdout",
     "output_type": "stream",
     "text": [
      "Number of trainable parameters = 6282116\n"
     ]
    }
   ],
   "source": [
    "pytorch_total_params = sum(p.numel() for p in model_trans.parameters() if p.requires_grad)\n",
    "print('Number of trainable parameters =', pytorch_total_params )"
   ]
  },
  {
   "cell_type": "code",
   "execution_count": 40,
   "id": "c2a856d0-d601-45e0-9a26-d2e7d70b5318",
   "metadata": {},
   "outputs": [],
   "source": [
    "##learning rates\n",
    "LR=0.1\n",
    "\n",
    "criterion = torch.nn.CrossEntropyLoss() #loss function\n",
    "optimizer = torch.optim.SGD(model_trans.parameters(), lr=LR) ##optimizer\n",
    "#optimizer = torch.optim.Adam(model.parameters(), lr=LR)\n",
    "scheduler = torch.optim.lr_scheduler.StepLR(optimizer, step_size=18, gamma=0.1)\n",
    "#scheduler = torch.optim.lr_scheduler.StepLR(optimizer, 1.0, gamma=0.1)"
   ]
  },
  {
   "cell_type": "code",
   "execution_count": 41,
   "id": "93cdab3b-2924-439a-9f89-35c783b66ebf",
   "metadata": {
    "scrolled": true
   },
   "outputs": [
    {
     "name": "stderr",
     "output_type": "stream",
     "text": [
      "  0%|                                                                                            | 0/50 [00:00<?, ?it/s]"
     ]
    },
    {
     "name": "stdout",
     "output_type": "stream",
     "text": [
      "Loss_train =  549.5552048683167\n"
     ]
    },
    {
     "name": "stderr",
     "output_type": "stream",
     "text": [
      "  2%|█▋                                                                                  | 1/50 [00:26<21:54, 26.83s/it]"
     ]
    },
    {
     "name": "stdout",
     "output_type": "stream",
     "text": [
      "Accuracy_validation=  0.32083333333333336\n",
      "Loss_train =  468.8352457880974\n"
     ]
    },
    {
     "name": "stderr",
     "output_type": "stream",
     "text": [
      "  4%|███▎                                                                                | 2/50 [00:54<21:45, 27.20s/it]"
     ]
    },
    {
     "name": "stdout",
     "output_type": "stream",
     "text": [
      "Accuracy_validation=  0.4725\n",
      "Loss_train =  402.7256635427475\n"
     ]
    },
    {
     "name": "stderr",
     "output_type": "stream",
     "text": [
      "  6%|█████                                                                               | 3/50 [01:22<21:32, 27.49s/it]"
     ]
    },
    {
     "name": "stdout",
     "output_type": "stream",
     "text": [
      "Accuracy_validation=  0.5858333333333333\n",
      "Loss_train =  350.75664710998535\n"
     ]
    },
    {
     "name": "stderr",
     "output_type": "stream",
     "text": [
      "  8%|██████▋                                                                             | 4/50 [01:49<21:06, 27.53s/it]"
     ]
    },
    {
     "name": "stdout",
     "output_type": "stream",
     "text": [
      "Accuracy_validation=  0.7058333333333333\n",
      "Loss_train =  309.51423877477646\n"
     ]
    },
    {
     "name": "stderr",
     "output_type": "stream",
     "text": [
      " 10%|████████▍                                                                           | 5/50 [02:16<20:24, 27.21s/it]"
     ]
    },
    {
     "name": "stdout",
     "output_type": "stream",
     "text": [
      "Accuracy_validation=  0.7341666666666666\n",
      "Loss_train =  277.0105889439583\n"
     ]
    },
    {
     "name": "stderr",
     "output_type": "stream",
     "text": [
      " 12%|██████████                                                                          | 6/50 [02:43<19:55, 27.17s/it]"
     ]
    },
    {
     "name": "stdout",
     "output_type": "stream",
     "text": [
      "Accuracy_validation=  0.7575\n",
      "Loss_train =  252.03474986553192\n"
     ]
    },
    {
     "name": "stderr",
     "output_type": "stream",
     "text": [
      " 14%|███████████▊                                                                        | 7/50 [03:10<19:20, 27.00s/it]"
     ]
    },
    {
     "name": "stdout",
     "output_type": "stream",
     "text": [
      "Accuracy_validation=  0.7866666666666666\n",
      "Loss_train =  231.3168703019619\n"
     ]
    },
    {
     "name": "stderr",
     "output_type": "stream",
     "text": [
      " 16%|█████████████▍                                                                      | 8/50 [03:37<18:58, 27.10s/it]"
     ]
    },
    {
     "name": "stdout",
     "output_type": "stream",
     "text": [
      "Accuracy_validation=  0.8033333333333333\n",
      "Loss_train =  211.30681665241718\n"
     ]
    },
    {
     "name": "stderr",
     "output_type": "stream",
     "text": [
      " 18%|███████████████                                                                     | 9/50 [04:04<18:28, 27.03s/it]"
     ]
    },
    {
     "name": "stdout",
     "output_type": "stream",
     "text": [
      "Accuracy_validation=  0.8166666666666667\n",
      "Loss_train =  197.87108778953552\n"
     ]
    },
    {
     "name": "stderr",
     "output_type": "stream",
     "text": [
      " 20%|████████████████▌                                                                  | 10/50 [04:31<17:57, 26.94s/it]"
     ]
    },
    {
     "name": "stdout",
     "output_type": "stream",
     "text": [
      "Accuracy_validation=  0.8216666666666667\n",
      "Loss_train =  186.74413965642452\n"
     ]
    },
    {
     "name": "stderr",
     "output_type": "stream",
     "text": [
      " 22%|██████████████████▎                                                                | 11/50 [04:57<17:29, 26.92s/it]"
     ]
    },
    {
     "name": "stdout",
     "output_type": "stream",
     "text": [
      "Accuracy_validation=  0.8341666666666666\n",
      "Loss_train =  175.56693969666958\n"
     ]
    },
    {
     "name": "stderr",
     "output_type": "stream",
     "text": [
      " 24%|███████████████████▉                                                               | 12/50 [05:24<16:59, 26.82s/it]"
     ]
    },
    {
     "name": "stdout",
     "output_type": "stream",
     "text": [
      "Accuracy_validation=  0.8316666666666667\n",
      "Loss_train =  170.34520816802979\n"
     ]
    },
    {
     "name": "stderr",
     "output_type": "stream",
     "text": [
      " 26%|█████████████████████▌                                                             | 13/50 [05:51<16:32, 26.83s/it]"
     ]
    },
    {
     "name": "stdout",
     "output_type": "stream",
     "text": [
      "Accuracy_validation=  0.8241666666666667\n",
      "Loss_train =  159.59837220609188\n"
     ]
    },
    {
     "name": "stderr",
     "output_type": "stream",
     "text": [
      " 28%|███████████████████████▏                                                           | 14/50 [06:17<16:02, 26.75s/it]"
     ]
    },
    {
     "name": "stdout",
     "output_type": "stream",
     "text": [
      "Accuracy_validation=  0.8516666666666667\n",
      "Loss_train =  153.06233431398869\n"
     ]
    },
    {
     "name": "stderr",
     "output_type": "stream",
     "text": [
      " 30%|████████████████████████▉                                                          | 15/50 [06:44<15:35, 26.72s/it]"
     ]
    },
    {
     "name": "stdout",
     "output_type": "stream",
     "text": [
      "Accuracy_validation=  0.86\n",
      "Loss_train =  146.23731826245785\n"
     ]
    },
    {
     "name": "stderr",
     "output_type": "stream",
     "text": [
      " 32%|██████████████████████████▌                                                        | 16/50 [07:11<15:08, 26.71s/it]"
     ]
    },
    {
     "name": "stdout",
     "output_type": "stream",
     "text": [
      "Accuracy_validation=  0.8508333333333333\n",
      "Loss_train =  141.1906017959118\n"
     ]
    },
    {
     "name": "stderr",
     "output_type": "stream",
     "text": [
      " 34%|████████████████████████████▏                                                      | 17/50 [07:37<14:41, 26.71s/it]"
     ]
    },
    {
     "name": "stdout",
     "output_type": "stream",
     "text": [
      "Accuracy_validation=  0.8458333333333333\n",
      "Loss_train =  135.45897889137268\n"
     ]
    },
    {
     "name": "stderr",
     "output_type": "stream",
     "text": [
      " 36%|█████████████████████████████▉                                                     | 18/50 [08:04<14:12, 26.65s/it]"
     ]
    },
    {
     "name": "stdout",
     "output_type": "stream",
     "text": [
      "Accuracy_validation=  0.8533333333333334\n",
      "Loss_train =  129.8002252280712\n"
     ]
    },
    {
     "name": "stderr",
     "output_type": "stream",
     "text": [
      " 38%|███████████████████████████████▌                                                   | 19/50 [08:31<13:47, 26.69s/it]"
     ]
    },
    {
     "name": "stdout",
     "output_type": "stream",
     "text": [
      "Accuracy_validation=  0.8633333333333333\n",
      "Loss_train =  127.10729876160622\n"
     ]
    },
    {
     "name": "stderr",
     "output_type": "stream",
     "text": [
      " 40%|█████████████████████████████████▏                                                 | 20/50 [08:58<13:21, 26.71s/it]"
     ]
    },
    {
     "name": "stdout",
     "output_type": "stream",
     "text": [
      "Accuracy_validation=  0.8675\n",
      "Loss_train =  121.45629844069481\n"
     ]
    },
    {
     "name": "stderr",
     "output_type": "stream",
     "text": [
      " 42%|██████████████████████████████████▊                                                | 21/50 [09:24<12:53, 26.67s/it]"
     ]
    },
    {
     "name": "stdout",
     "output_type": "stream",
     "text": [
      "Accuracy_validation=  0.8525\n",
      "Loss_train =  121.07505015283823\n"
     ]
    },
    {
     "name": "stderr",
     "output_type": "stream",
     "text": [
      " 44%|████████████████████████████████████▌                                              | 22/50 [09:51<12:27, 26.71s/it]"
     ]
    },
    {
     "name": "stdout",
     "output_type": "stream",
     "text": [
      "Accuracy_validation=  0.8658333333333333\n",
      "Loss_train =  115.68430642038584\n"
     ]
    },
    {
     "name": "stderr",
     "output_type": "stream",
     "text": [
      " 46%|██████████████████████████████████████▏                                            | 23/50 [10:17<11:57, 26.58s/it]"
     ]
    },
    {
     "name": "stdout",
     "output_type": "stream",
     "text": [
      "Accuracy_validation=  0.8633333333333333\n",
      "Loss_train =  110.80434945970774\n"
     ]
    },
    {
     "name": "stderr",
     "output_type": "stream",
     "text": [
      " 48%|███████████████████████████████████████▊                                           | 24/50 [10:44<11:31, 26.59s/it]"
     ]
    },
    {
     "name": "stdout",
     "output_type": "stream",
     "text": [
      "Accuracy_validation=  0.8716666666666667\n",
      "Loss_train =  108.2894944474101\n"
     ]
    },
    {
     "name": "stderr",
     "output_type": "stream",
     "text": [
      " 50%|█████████████████████████████████████████▌                                         | 25/50 [11:11<11:07, 26.69s/it]"
     ]
    },
    {
     "name": "stdout",
     "output_type": "stream",
     "text": [
      "Accuracy_validation=  0.8558333333333333\n",
      "Loss_train =  103.73578117787838\n"
     ]
    },
    {
     "name": "stderr",
     "output_type": "stream",
     "text": [
      " 52%|███████████████████████████████████████████▏                                       | 26/50 [11:37<10:40, 26.71s/it]"
     ]
    },
    {
     "name": "stdout",
     "output_type": "stream",
     "text": [
      "Accuracy_validation=  0.8625\n",
      "Loss_train =  104.07763428241014\n"
     ]
    },
    {
     "name": "stderr",
     "output_type": "stream",
     "text": [
      " 54%|████████████████████████████████████████████▊                                      | 27/50 [12:05<10:19, 26.95s/it]"
     ]
    },
    {
     "name": "stdout",
     "output_type": "stream",
     "text": [
      "Accuracy_validation=  0.8708333333333333\n",
      "Loss_train =  97.28155791014433\n"
     ]
    },
    {
     "name": "stderr",
     "output_type": "stream",
     "text": [
      " 56%|██████████████████████████████████████████████▍                                    | 28/50 [12:31<09:48, 26.75s/it]"
     ]
    },
    {
     "name": "stdout",
     "output_type": "stream",
     "text": [
      "Accuracy_validation=  0.8675\n",
      "Loss_train =  94.96975962072611\n"
     ]
    },
    {
     "name": "stderr",
     "output_type": "stream",
     "text": [
      " 58%|████████████████████████████████████████████████▏                                  | 29/50 [12:58<09:19, 26.62s/it]"
     ]
    },
    {
     "name": "stdout",
     "output_type": "stream",
     "text": [
      "Accuracy_validation=  0.8783333333333333\n",
      "Loss_train =  93.46105827391148\n"
     ]
    },
    {
     "name": "stderr",
     "output_type": "stream",
     "text": [
      " 60%|█████████████████████████████████████████████████▊                                 | 30/50 [13:24<08:50, 26.52s/it]"
     ]
    },
    {
     "name": "stdout",
     "output_type": "stream",
     "text": [
      "Accuracy_validation=  0.8691666666666666\n",
      "Loss_train =  90.68617445603013\n"
     ]
    },
    {
     "name": "stderr",
     "output_type": "stream",
     "text": [
      " 62%|███████████████████████████████████████████████████▍                               | 31/50 [13:50<08:22, 26.46s/it]"
     ]
    },
    {
     "name": "stdout",
     "output_type": "stream",
     "text": [
      "Accuracy_validation=  0.8708333333333333\n",
      "Loss_train =  89.82306805998087\n"
     ]
    },
    {
     "name": "stderr",
     "output_type": "stream",
     "text": [
      " 64%|█████████████████████████████████████████████████████                              | 32/50 [14:17<07:55, 26.44s/it]"
     ]
    },
    {
     "name": "stdout",
     "output_type": "stream",
     "text": [
      "Accuracy_validation=  0.8816666666666667\n",
      "Loss_train =  86.8908370025456\n"
     ]
    },
    {
     "name": "stderr",
     "output_type": "stream",
     "text": [
      " 66%|██████████████████████████████████████████████████████▊                            | 33/50 [14:43<07:29, 26.42s/it]"
     ]
    },
    {
     "name": "stdout",
     "output_type": "stream",
     "text": [
      "Accuracy_validation=  0.875\n",
      "Loss_train =  83.70078542083502\n"
     ]
    },
    {
     "name": "stderr",
     "output_type": "stream",
     "text": [
      " 68%|████████████████████████████████████████████████████████▍                          | 34/50 [15:09<07:01, 26.36s/it]"
     ]
    },
    {
     "name": "stdout",
     "output_type": "stream",
     "text": [
      "Accuracy_validation=  0.87\n",
      "Loss_train =  84.10414713993669\n"
     ]
    },
    {
     "name": "stderr",
     "output_type": "stream",
     "text": [
      " 70%|██████████████████████████████████████████████████████████                         | 35/50 [15:35<06:34, 26.31s/it]"
     ]
    },
    {
     "name": "stdout",
     "output_type": "stream",
     "text": [
      "Accuracy_validation=  0.8758333333333334\n",
      "Loss_train =  81.69905377179384\n"
     ]
    },
    {
     "name": "stderr",
     "output_type": "stream",
     "text": [
      " 72%|███████████████████████████████████████████████████████████▊                       | 36/50 [16:02<06:08, 26.34s/it]"
     ]
    },
    {
     "name": "stdout",
     "output_type": "stream",
     "text": [
      "Accuracy_validation=  0.8758333333333334\n",
      "Loss_train =  78.89408769086003\n"
     ]
    },
    {
     "name": "stderr",
     "output_type": "stream",
     "text": [
      " 74%|█████████████████████████████████████████████████████████████▍                     | 37/50 [16:28<05:42, 26.34s/it]"
     ]
    },
    {
     "name": "stdout",
     "output_type": "stream",
     "text": [
      "Accuracy_validation=  0.8766666666666667\n",
      "Loss_train =  77.1418106853962\n"
     ]
    },
    {
     "name": "stderr",
     "output_type": "stream",
     "text": [
      " 76%|███████████████████████████████████████████████████████████████                    | 38/50 [16:54<05:15, 26.29s/it]"
     ]
    },
    {
     "name": "stdout",
     "output_type": "stream",
     "text": [
      "Accuracy_validation=  0.8741666666666666\n",
      "Loss_train =  73.02240241318941\n"
     ]
    },
    {
     "name": "stderr",
     "output_type": "stream",
     "text": [
      " 78%|████████████████████████████████████████████████████████████████▋                  | 39/50 [17:20<04:48, 26.21s/it]"
     ]
    },
    {
     "name": "stdout",
     "output_type": "stream",
     "text": [
      "Accuracy_validation=  0.8708333333333333\n",
      "Loss_train =  73.7932951040566\n"
     ]
    },
    {
     "name": "stderr",
     "output_type": "stream",
     "text": [
      " 80%|██████████████████████████████████████████████████████████████████▍                | 40/50 [17:46<04:21, 26.17s/it]"
     ]
    },
    {
     "name": "stdout",
     "output_type": "stream",
     "text": [
      "Accuracy_validation=  0.8758333333333334\n",
      "Loss_train =  72.65476440265775\n"
     ]
    },
    {
     "name": "stderr",
     "output_type": "stream",
     "text": [
      " 82%|████████████████████████████████████████████████████████████████████               | 41/50 [18:12<03:55, 26.12s/it]"
     ]
    },
    {
     "name": "stdout",
     "output_type": "stream",
     "text": [
      "Accuracy_validation=  0.8741666666666666\n",
      "Loss_train =  68.4298115260899\n"
     ]
    },
    {
     "name": "stderr",
     "output_type": "stream",
     "text": [
      " 84%|█████████████████████████████████████████████████████████████████████▋             | 42/50 [18:39<03:29, 26.20s/it]"
     ]
    },
    {
     "name": "stdout",
     "output_type": "stream",
     "text": [
      "Accuracy_validation=  0.8783333333333333\n",
      "Loss_train =  68.29180112108588\n"
     ]
    },
    {
     "name": "stderr",
     "output_type": "stream",
     "text": [
      " 86%|███████████████████████████████████████████████████████████████████████▍           | 43/50 [19:05<03:03, 26.27s/it]"
     ]
    },
    {
     "name": "stdout",
     "output_type": "stream",
     "text": [
      "Accuracy_validation=  0.8691666666666666\n",
      "Loss_train =  65.17393782734871\n"
     ]
    },
    {
     "name": "stderr",
     "output_type": "stream",
     "text": [
      " 88%|█████████████████████████████████████████████████████████████████████████          | 44/50 [19:32<02:37, 26.29s/it]"
     ]
    },
    {
     "name": "stdout",
     "output_type": "stream",
     "text": [
      "Accuracy_validation=  0.875\n",
      "Loss_train =  64.73698749579489\n"
     ]
    },
    {
     "name": "stderr",
     "output_type": "stream",
     "text": [
      " 90%|██████████████████████████████████████████████████████████████████████████▋        | 45/50 [19:58<02:11, 26.29s/it]"
     ]
    },
    {
     "name": "stdout",
     "output_type": "stream",
     "text": [
      "Accuracy_validation=  0.8716666666666667\n",
      "Loss_train =  63.644412621855736\n"
     ]
    },
    {
     "name": "stderr",
     "output_type": "stream",
     "text": [
      " 92%|████████████████████████████████████████████████████████████████████████████▎      | 46/50 [20:24<01:45, 26.31s/it]"
     ]
    },
    {
     "name": "stdout",
     "output_type": "stream",
     "text": [
      "Accuracy_validation=  0.875\n",
      "Loss_train =  61.54647824726999\n"
     ]
    },
    {
     "name": "stderr",
     "output_type": "stream",
     "text": [
      " 94%|██████████████████████████████████████████████████████████████████████████████     | 47/50 [20:51<01:18, 26.32s/it]"
     ]
    },
    {
     "name": "stdout",
     "output_type": "stream",
     "text": [
      "Accuracy_validation=  0.8833333333333333\n",
      "Loss_train =  61.0957255102694\n"
     ]
    },
    {
     "name": "stderr",
     "output_type": "stream",
     "text": [
      " 96%|███████████████████████████████████████████████████████████████████████████████▋   | 48/50 [21:17<00:52, 26.33s/it]"
     ]
    },
    {
     "name": "stdout",
     "output_type": "stream",
     "text": [
      "Accuracy_validation=  0.8716666666666667\n",
      "Loss_train =  58.45308374799788\n"
     ]
    },
    {
     "name": "stderr",
     "output_type": "stream",
     "text": [
      " 98%|█████████████████████████████████████████████████████████████████████████████████▎ | 49/50 [21:43<00:26, 26.31s/it]"
     ]
    },
    {
     "name": "stdout",
     "output_type": "stream",
     "text": [
      "Accuracy_validation=  0.875\n",
      "Loss_train =  57.7623482234776\n"
     ]
    },
    {
     "name": "stderr",
     "output_type": "stream",
     "text": [
      "100%|███████████████████████████████████████████████████████████████████████████████████| 50/50 [22:09<00:00, 26.60s/it]"
     ]
    },
    {
     "name": "stdout",
     "output_type": "stream",
     "text": [
      "Accuracy_validation=  0.87\n"
     ]
    },
    {
     "name": "stderr",
     "output_type": "stream",
     "text": [
      "\n"
     ]
    }
   ],
   "source": [
    "EPOCHS = 50\n",
    "cum_loss_list=[]\n",
    "acc_epoch=[]\n",
    "acc_old=0\n",
    "\n",
    "for epoch in tqdm(range(1, EPOCHS + 1)):\n",
    "    model_trans.train()\n",
    "    cum_loss=0\n",
    "    for idx, (label, text) in enumerate(train_dataloader):\n",
    "        optimizer.zero_grad()\n",
    "        label, text=label.to(device), text.to(device)\n",
    "\n",
    "\n",
    "        predicted_label = model_trans(text)\n",
    "        loss = criterion(predicted_label, label)\n",
    "        loss.backward()\n",
    "        #torch.nn.utils.clip_grad_norm_(model.parameters(), 0.1)\n",
    "        optimizer.step()\n",
    "        cum_loss+=loss.item()\n",
    "    print(\"Loss_train = \",cum_loss)\n",
    "    #print('Learning rate = ',torch.optim.lr_scheduler.StepLR.get_last_lr(scheduler))\n",
    "\n",
    "    cum_loss_list.append(cum_loss)\n",
    "    accu_val = evaluate_trans(valid_dataloader, model_trans)\n",
    "    acc_epoch.append(accu_val)\n",
    "    print('Accuracy_validation= ', accu_val)\n",
    "\n",
    "    if accu_val > acc_old:\n",
    "      acc_old= accu_val\n",
    "      torch.save(model_trans.state_dict(), 'model_trans_enc.pth')\n",
    "\n",
    "save_list_to_file(lst=cum_loss_list, filename=\"model_trans_enc.pkl\")\n",
    "save_list_to_file(lst=acc_epoch, filename=\"model_trans_enc.pkl\")"
   ]
  },
  {
   "cell_type": "code",
   "execution_count": 42,
   "id": "920796aa-27b9-4b84-9242-f945c66167cb",
   "metadata": {},
   "outputs": [
    {
     "data": {
      "image/png": "[encoded data removed]",
      "text/plain": [
       "<Figure size 640x480 with 2 Axes>"
      ]
     },
     "metadata": {},
     "output_type": "display_data"
    }
   ],
   "source": [
    "plot(cum_loss_list,acc_epoch, title = 'Trasformer Encoder')"
   ]
  },
  {
   "cell_type": "code",
   "execution_count": 43,
   "id": "eb74b6b5-5952-4712-b861-f587c855ef80",
   "metadata": {},
   "outputs": [
    {
     "name": "stdout",
     "output_type": "stream",
     "text": [
      "Accuracy on test data for trained model =  0.8689473684210526\n"
     ]
    }
   ],
   "source": [
    "print('Accuracy on test data for trained model = ',evaluate_trans(test_dataloader, model_trans))"
   ]
  },
  {
   "cell_type": "markdown",
   "id": "5ab24983-2104-4bf5-928c-dfa7a952483e",
   "metadata": {},
   "source": [
    "## Conclusion"
   ]
  },
  {
   "cell_type": "markdown",
   "id": "3665ba20-be3a-4e42-a445-08b7a229697e",
   "metadata": {},
   "source": [
    "Two different types of Networks were used to classify text. As expected, the transformer-encoder architecture yielded a higher accuracy on the test set. Since the models were trained on cpu, the size of the dataset needed to be reduced. Larger datasets can be considered if gpu's are used, as well as a deeper transformer-encoder architectures, which is expected to give better results. "
   ]
  }
 ],
 "metadata": {
  "kernelspec": {
   "display_name": "Python 3 (ipykernel)",
   "language": "python",
   "name": "python3"
  },
  "language_info": {
   "codemirror_mode": {
    "name": "ipython",
    "version": 3
   },
   "file_extension": ".py",
   "mimetype": "text/x-python",
   "name": "python",
   "nbconvert_exporter": "python",
   "pygments_lexer": "ipython3",
   "version": "3.12.3"
  }
 },
 "nbformat": 4,
 "nbformat_minor": 5
}
